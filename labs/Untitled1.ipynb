{
 "cells": [
  {
   "cell_type": "code",
   "execution_count": 64,
   "id": "monetary-buying",
   "metadata": {},
   "outputs": [],
   "source": [
    "import numpy as np"
   ]
  },
  {
   "cell_type": "code",
   "execution_count": 68,
   "id": "declared-three",
   "metadata": {},
   "outputs": [
    {
     "name": "stdout",
     "output_type": "stream",
     "text": [
      "[[1 2 3 4]\n",
      " [5 6 7 8]]\n",
      "\n",
      " [[5 6 7 8]]\n",
      "\n",
      " [[5 6 7 8]]\n",
      "\n",
      " [[5 6 7 8]\n",
      " [1 2 3 4]]\n",
      "\n",
      " [[5 6 7 8]]\n",
      "\n",
      " [[4 2]\n",
      " [8 6]]\n",
      "\n",
      " [[4 3 2 1]]\n",
      "\n",
      " [[4 3 2 1]\n",
      " [8 7 6 5]]\n"
     ]
    }
   ],
   "source": [
    "A = np.array([[1, 2, 3, 4], [5, 6, 7, 8]])\n",
    "B0 = A[1::]\n",
    "B = A[-1::]\n",
    "B1 = A[::-1]\n",
    "B2 = A[::-2]\n",
    "B3 = A[:,::-2]\n",
    "B4 = A[:1,::-1]\n",
    "C = A[:, ::-1]\n",
    "    \n",
    "print(A)\n",
    "print(\"\\n\",B0)\n",
    "print(\"\\n\",B)\n",
    "print(\"\\n\",B1)\n",
    "print(\"\\n\",B2)\n",
    "print(\"\\n\",B3)\n",
    "print(\"\\n\",B4)\n",
    "print(\"\\n\",C)\n",
    "\n"
   ]
  },
  {
   "cell_type": "code",
   "execution_count": null,
   "id": "concrete-honduras",
   "metadata": {},
   "outputs": [],
   "source": []
  }
 ],
 "metadata": {
  "kernelspec": {
   "display_name": "Python 3",
   "language": "python",
   "name": "python3"
  },
  "language_info": {
   "codemirror_mode": {
    "name": "ipython",
    "version": 3
   },
   "file_extension": ".py",
   "mimetype": "text/x-python",
   "name": "python",
   "nbconvert_exporter": "python",
   "pygments_lexer": "ipython3",
   "version": "3.8.1"
  }
 },
 "nbformat": 4,
 "nbformat_minor": 5
}
