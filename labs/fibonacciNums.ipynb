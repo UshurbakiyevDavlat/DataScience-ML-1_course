{
 "cells": [
  {
   "cell_type": "code",
   "execution_count": 40,
   "id": "altered-personal",
   "metadata": {},
   "outputs": [
    {
     "name": "stdout",
     "output_type": "stream",
     "text": [
      "Enter num for it:10\n",
      "34\n",
      "21\n",
      "13\n",
      "8\n",
      "5\n",
      "3\n",
      "2\n",
      "1\n",
      "1\n",
      "0\n",
      "Wall time: 0 ns\n"
     ]
    },
    {
     "data": {
      "text/plain": [
       "0"
      ]
     },
     "execution_count": 40,
     "metadata": {},
     "output_type": "execute_result"
    }
   ],
   "source": [
    "def fib_call(n):\n",
    "    if(n<=1):\n",
    "        return n;\n",
    "    return fib_call(n-1)+fib_call(n-2)\n",
    "n = int(input(\"Enter num for it:\"))\n",
    "while(n):\n",
    "    n = n-1\n",
    "    print(fib_call(n))\n",
    "    \n",
    "%time fib_call(n)\n",
    "        \n",
    "    \n",
    "    \n",
    "    "
   ]
  },
  {
   "cell_type": "code",
   "execution_count": 43,
   "id": "royal-maple",
   "metadata": {},
   "outputs": [
    {
     "name": "stdout",
     "output_type": "stream",
     "text": [
      "Enter num for it:10\n",
      "Fibonacci sequence:\n",
      "0\n",
      "1\n",
      "1\n",
      "2\n",
      "3\n",
      "5\n",
      "8\n",
      "13\n",
      "21\n",
      "34\n"
     ]
    }
   ],
   "source": [
    "#2 alghoritm\n",
    "def fibUsual(a):  \n",
    "    n1 = 0\n",
    "    n2 = 1\n",
    "    count = 0\n",
    "    print(\"Fibonacci sequence:\")\n",
    "    while (count < a):\n",
    "        print(n1)\n",
    "        res = n1 + n2\n",
    "        # update values\n",
    "        n1 = n2\n",
    "        n2 = res\n",
    "        count += 1\n",
    "a = int(input(\"Enter num for it:\"))\n",
    "\n",
    "fibUsual(a)\n"
   ]
  },
  {
   "cell_type": "code",
   "execution_count": null,
   "id": "unknown-treatment",
   "metadata": {},
   "outputs": [],
   "source": []
  },
  {
   "cell_type": "code",
   "execution_count": null,
   "id": "answering-programmer",
   "metadata": {},
   "outputs": [],
   "source": []
  }
 ],
 "metadata": {
  "kernelspec": {
   "display_name": "Python 3",
   "language": "python",
   "name": "python3"
  }
 },
 "nbformat": 4,
 "nbformat_minor": 5
}
